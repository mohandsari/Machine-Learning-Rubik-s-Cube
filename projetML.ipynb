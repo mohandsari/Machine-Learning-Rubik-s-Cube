{
 "cells": [
  {
   "cell_type": "markdown",
   "id": "fluid-israeli",
   "metadata": {},
   "source": [
    "# Machine Learning & Application \n",
    "## 2021-2022\n",
    "# Projet Rubik's cube\n",
    "\n",
    "Le projet porte sur un problème d'apprentissage supervisé. Le problème fait parti des données du [challenge des données](https://challengedata.ens.fr/challenges/20) ENS et s'intitule \"Solve 2x2x2 Rubik's cube\" et est présenté par la société LumenAI. Une [vidéo](https://www.college-de-france.fr/video/stephane-mallat/2019) décrivant le problème se trouve sur le site du collège de France. \n",
    "\n",
    "Les autres challenges sont aussi très intéressants, mais nécessitent plus de connaissances en machine learning (par exemple de l'apprentissage sur des séries temporelles, sur des images, des sons, du texte, etc...). D'où le choix de ce challenge dont les données sont très proches de problèmes sur lesquels on a travaillé.\n",
    "\n",
    "La résolution d'un rubik's cube peut être vu comme un problème d'intelligence artificielle (par exemple en utilisant des techniques de recherches avec des heuristiques). On peut même étudier le graphe du jeu du point de vue de la théorie des graphes et découvrir qu'en fait il existe toujours un chemin relativement court à une solution.\n",
    "\n",
    "ex dans la litérature:\n",
    " * \"The Diameter of the Rubik's Cube Group Is Twenty\", *T. Rokicki, H. Kociemba, M. Davidson, and J. Dethridge*, SIAM Review, 2014, Vol. 56, No. 4 : pp. 645-670.\n",
    " * \"Solving Rubik’s Cube Using Graph Theory\", Khemani C., Doshi J., Duseja J., Shah K., Udmale S., Sambhe V. (2019) in: Verma N., Ghosh A. (eds) Computational Intelligence: Theories, Applications and Future Directions - Volume I. Advances in Intelligent Systems and Computing, vol 798. Springer, Singapore. \n",
    " \n",
    "Ici, on a une base de données qui contient la description de rubik's cubes ainsi que le nombre minimal de coups pour les résoudre. On ne sait pas comment les problèmes ont été générés (est-ce que cela entraine un biais dans les problèmes, est-ce que plusieurs problèmes similaires sont présents dans la base? (Ici par similaire, on pourrait peut être avoir deux problèmes qui apparaissent dans la base, mais en permuttant certaines couleurs, on aurait peut-être exactement le même problème!)). Cependant, on vous demande de constuire un modèle pour nous aider à prédire le nombre de coups minimal pour un problème donné. Ensuite, vous pourriez utiliser ce modèle dans un algorithme de recherche étudié en cours d'IA.\n",
    "\n",
    "On peut le voir comme un problème de regression où il faut deviner le nombre minimal de coups pour résoudre le rubik's cube, ou comme un problème de classification où la classe d'un état du rubik's cube est le nombre minimal de coups pour le résoudre (donc on pourrait avoir au plus 19 classes). Toutes les méthodes que l'on a vu en cours peuvent s'appliquer.\n",
    "\n",
    "## Les données et le site du challenge\n",
    "\n",
    "Le projet s'effectue en binôme. Vous devez ouvrir un compte pour le binôme sur le site du challenge, choisissez de participer seul (le binôme sera un seul participant au challenge), puis inscrivez-vous au challenge du cours *M1 MIAGE Dauphine - PSL - 2021-2022*.\n",
    "\n",
    "Vous aurez accès à trois ensembles: \n",
    " * `x_train` qui contient la description de 1.837.079 différents rubik's cubes. Chaque rubik's cube est représenté par 25 attributs (lisez la description sur le site du challenge).\n",
    " * `y_train` qui contient le nombre minimal de coups pour résoudre chacun des 1.837.079 différents rubik's cubes. \n",
    " Ces données sont vos données d'entrainement.\n",
    " * enfin `x_test` qui contient la description de 1.837.080 nouveaux rubik's cubes. Vous ne connaissez pas le nombre minimal pour chacun de ces problèmes. \n",
    " \n",
    "Pour participer aux challenges, il vous faudra uploader sur le site votre prédiction sur les rubik's cubes du fichier `x_test` et le site du challenge vous donnera un score. Pour ce score, le site utilise l'erreur moyenne absolue: pour les n=1.837.080 exemples du fichier test, on fait la moyenne entre le vrai nombre minimal de coups $y_i$ et votre prédiction $z_i$: \n",
    "$$ \\frac{\\sum_{i=1}^n |y_i-z_i|}{n}$$\n",
    "\n",
    "Malheureusement (pour vous), le site ne vous donnera pas plus d'information que votre score, vous ne pourrez pas savoir quelles sont vos bonnes prédictions et quelles sont vos erreurs. Pire, le site vous permettra d'uploader une prédiction que deux fois par jour!\n",
    "\n",
    "\n",
    "## Soumission et rappot\n",
    "\n",
    "Un des membres du binôme devra remplir le formulaire Forms de l'équipe Teams du cours (onglet General) pour enregistrer les membres du binôme et le login du binôme qui utilisé sur le site du challenge ENS. \n",
    "Avant le **jeudi 2 décembre à 12h** vous devez 1) avoir créé votre compte pour le binôme et inscrit le binôme sur le challenge du cours, et 2) rempli les informations sur le formulaire Forms.\n",
    "\n",
    "Vous pouvez faire le projet seul, mais vous serez évalué comme un binôme. Si vous tenez absolument à former un trinôme, contactez moi par email, mais sachez que dès lors, les attentes seront plus élevées.\n",
    "\n",
    "Le deadline pour le projet sera le **dimanche 20 décembre 23:59**\n",
    "Vous devrez à ce moment là avoir fait trois choses:\n",
    "* avoir rendu un rapport\n",
    "* avoir rendu un notebook jupyter ou collab contenant le code pour générer votre solution\n",
    "* avoir soumis une solution sur le site du challenge ENS.\n",
    "\n",
    "Le notebook et le rapport seront à soumettre sous myCourse.\n",
    "\n",
    "Le rapport est un document **pdf** et devra être un document structuré qui explique vos choix, explique votre solution et donne votre résultat. Ne présentez ni le cours, ni le contexte, seul votre travail est important. Le rapport est de **6** pages maximum au format A4 (sans utiliser une taille de police inférieure strictement à 12). Vous pouvez ajouter une annexe à ce rapport (au format pdf ou sous la forme d'un notebook jupyter), étant entendu que le lecteur n'est pas obligé de lire l'annexe. Votre mission est de proposer un modèle de prédiction pour ce problème, votre rapport doit justifier comment vous avez répondu (complètement ou pas) à cette mission (par exemple, vous pouvez décrire ce que vous avez essayé, ce qui a marché ou non, pourquoi vous avez essayé autre chose...). Une autre façon de décrire ce qu'on attend du rapport est la suivante: votre manageur a donné à plusieurs équipes la même tâche d'apprentissage supervisé. Vous devez lui présenter dans ce rapport des arguments qui justifient la qualité de votre approche et de vos résultats. Votre manageur connait le problème, mais n'est pas forcément un expert du domaine. A vous de le convaincre d'utiliser votre solution! (attention, si vous connaissez aussi les limitations de votre solution, il est bon de les exposer aussi!). \n",
    "\n",
    "L'évaluation portera sur la qualité de votre analyse, même si vos résultats sont peu concluant. Pour caricaturer, un modèle qui gagnerait la compétition sans pouvoir expliquer ce qu'il a fait n'aura pas une bonne note pour le projet du cours (mais bravo, il a gagné la compétition!). Autre caricature, un projet qui applique un seul algorithme et conclue que ça ne fonctionne pas bien n'aura pas non plus une bonne note.\n",
    "\n",
    "Une soutenance sera organisée lors de la première semaine de cours (après les examens). Elle permettra de compléter l'évaluation et de vous donner un retour sur votre travail.\n",
    " Cette soutenance ne demande aucune préparation de votre part. Elle durera une douzaine/quinzaine de minutes par groupe. La soutenance consistera en un échange au sujet de vos résultats et votre rapport. Si la soutenance fait apparaître qu’un des membres n’a pas beaucoup contribué, sa note pourra être revue à la baisse. Egalement, on pourra vous demander de montrer le code et de fournir les résultats que vous avez obtenu lors des exercices d’implémentation des TDs.\n",
    "\n",
    "Ce projet compte pour 40% de la note de l’UE. Il est donc souhaitable que la note corresponde au travail de votre groupe, et non aux conseils d’autres groupes, d’autres étudiants ou d’internet. Si vous utilisez des sources (articles de recherche, posts sur internet, etc...), vous devez mentionnez vos sources dans le rapport (sinon, cela s'appelle du plagiat, et cela peut être puni par un conseil de discipline).\n",
    "\n",
    "Les quelques lignes de code ci-dessous lisent simplement les fichiers sources et affiche la taille des données."
   ]
  },
  {
   "cell_type": "markdown",
   "id": "6bf9ade2",
   "metadata": {},
   "source": [
    "# import"
   ]
  },
  {
   "cell_type": "code",
   "execution_count": 90,
   "id": "fd1bd0f1",
   "metadata": {},
   "outputs": [],
   "source": [
    "import pandas as pd\n",
    "import numpy as np\n",
    "import matplotlib.pyplot as plt\n",
    "import seaborn as sns\n",
    "from sklearn.model_selection import train_test_split\n",
    "from sklearn.neighbors import KNeighborsClassifier\n",
    "from sklearn.metrics import confusion_matrix\n",
    "from sklearn.naive_bayes import GaussianNB\n",
    "from sklearn.tree import DecisionTreeClassifier\n",
    "from sklearn import tree\n",
    "from sklearn.metrics import accuracy_score\n",
    "from sklearn.linear_model import SGDRegressor\n",
    "from sklearn.metrics import mean_squared_error\n",
    "from sklearn.model_selection import cross_val_score\n",
    "from sklearn.preprocessing import scale\n",
    "from sklearn.linear_model import LinearRegression\n",
    "from sklearn.ensemble import RandomForestClassifier\n",
    "from sklearn.naive_bayes import MultinomialNB\n",
    "from sklearn.tree import DecisionTreeRegressor\n",
    "from sklearn.naive_bayes import CategoricalNB\n",
    "from sklearn.neural_network import MLPClassifier\n",
    "from sklearn import preprocessing\n",
    "from sklearn.metrics import classification_report\n",
    "from sklearn.model_selection import validation_curve\n",
    "from collections import Counter\n",
    "from sklearn.datasets import make_classification\n",
    "from imblearn.under_sampling import NearMiss "
   ]
  },
  {
   "cell_type": "code",
   "execution_count": null,
   "id": "007dfaab",
   "metadata": {},
   "outputs": [],
   "source": []
  },
  {
   "cell_type": "markdown",
   "id": "cfdc5ce4",
   "metadata": {},
   "source": [
    "# Lecture des bases de données"
   ]
  },
  {
   "cell_type": "code",
   "execution_count": 2,
   "id": "acknowledged-battery",
   "metadata": {},
   "outputs": [],
   "source": [
    "df1 = pd.read_csv(\"csv/train_input.csv\")\n",
    "X = df1.to_numpy()\n",
    "xtrain =  X[:,1:] # on enleve l'attribut ID "
   ]
  },
  {
   "cell_type": "code",
   "execution_count": 3,
   "id": "3a1df6ef",
   "metadata": {},
   "outputs": [],
   "source": [
    "df2 = pd.read_csv(\"csv/train_output.csv\")\n",
    "y = df2.to_numpy()\n",
    "ytrain =  y[:,1:] # on enleve l'attribut ID "
   ]
  },
  {
   "cell_type": "code",
   "execution_count": 4,
   "id": "3f8731ef",
   "metadata": {},
   "outputs": [],
   "source": [
    "df3 = pd.read_csv(\"csv/test_input.csv\")\n",
    "Xtest = df3.to_numpy()\n",
    "xtest =  Xtest[:,1:] # on enleve l'attribut ID "
   ]
  },
  {
   "cell_type": "markdown",
   "id": "7664fabb",
   "metadata": {},
   "source": [
    "# Vérification des données"
   ]
  },
  {
   "cell_type": "code",
   "execution_count": 5,
   "id": "e3dadaa3",
   "metadata": {},
   "outputs": [],
   "source": [
    "def verifdf(df):\n",
    "    checkNaN = df.isnull().values.any()\n",
    "    if (checkNaN==False) : print(\"Il n'y a pas de valeurs manquantes\\n\")\n",
    "    else : print(\"il y a des valeurs manquantes\\n\")\n",
    "    print (df.dtypes)"
   ]
  },
  {
   "cell_type": "markdown",
   "id": "10c33ef6",
   "metadata": {},
   "source": [
    "##### On remarque que les données sont toutes de types int et qu'il n'y a pas de valeur manquante"
   ]
  },
  {
   "cell_type": "code",
   "execution_count": 6,
   "id": "97f62f1a",
   "metadata": {},
   "outputs": [
    {
     "name": "stdout",
     "output_type": "stream",
     "text": [
      "Il n'y a pas de valeurs manquantes\n",
      "\n",
      "ID       int64\n",
      "pos0     int64\n",
      "pos1     int64\n",
      "pos2     int64\n",
      "pos3     int64\n",
      "pos4     int64\n",
      "pos5     int64\n",
      "pos6     int64\n",
      "pos7     int64\n",
      "pos8     int64\n",
      "pos9     int64\n",
      "pos10    int64\n",
      "pos11    int64\n",
      "pos12    int64\n",
      "pos13    int64\n",
      "pos14    int64\n",
      "pos15    int64\n",
      "pos16    int64\n",
      "pos17    int64\n",
      "pos18    int64\n",
      "pos19    int64\n",
      "pos20    int64\n",
      "pos21    int64\n",
      "pos22    int64\n",
      "pos23    int64\n",
      "dtype: object\n"
     ]
    }
   ],
   "source": [
    "verifdf(df1)"
   ]
  },
  {
   "cell_type": "code",
   "execution_count": 7,
   "id": "7bafd626",
   "metadata": {},
   "outputs": [
    {
     "name": "stdout",
     "output_type": "stream",
     "text": [
      "Il n'y a pas de valeurs manquantes\n",
      "\n",
      "ID          int64\n",
      "distance    int64\n",
      "dtype: object\n"
     ]
    }
   ],
   "source": [
    "verifdf(df2)"
   ]
  },
  {
   "cell_type": "code",
   "execution_count": 8,
   "id": "ca5bdda7",
   "metadata": {},
   "outputs": [
    {
     "name": "stdout",
     "output_type": "stream",
     "text": [
      "Il n'y a pas de valeurs manquantes\n",
      "\n",
      "ID       int64\n",
      "pos0     int64\n",
      "pos1     int64\n",
      "pos2     int64\n",
      "pos3     int64\n",
      "pos4     int64\n",
      "pos5     int64\n",
      "pos6     int64\n",
      "pos7     int64\n",
      "pos8     int64\n",
      "pos9     int64\n",
      "pos10    int64\n",
      "pos11    int64\n",
      "pos12    int64\n",
      "pos13    int64\n",
      "pos14    int64\n",
      "pos15    int64\n",
      "pos16    int64\n",
      "pos17    int64\n",
      "pos18    int64\n",
      "pos19    int64\n",
      "pos20    int64\n",
      "pos21    int64\n",
      "pos22    int64\n",
      "pos23    int64\n",
      "dtype: object\n"
     ]
    }
   ],
   "source": [
    "verifdf(df3)"
   ]
  },
  {
   "cell_type": "markdown",
   "id": "81ea210e",
   "metadata": {},
   "source": [
    "# Fonction pour le rendue sur le site du challenge (format csv)"
   ]
  },
  {
   "cell_type": "code",
   "execution_count": 9,
   "id": "fad86df0",
   "metadata": {},
   "outputs": [],
   "source": [
    "def rendue(ypred,name):\n",
    "    df = pd.read_csv(\"csv/test_input.csv\")\n",
    "    Xtest = df.to_numpy()\n",
    "    Id =  Xtest[:,0]\n",
    "    sortie = pd.DataFrame( { 'ID' : Id, 'distance': ypred } )\n",
    "    sortie.to_csv(name+'.csv', index = False)"
   ]
  },
  {
   "cell_type": "markdown",
   "id": "631c127b",
   "metadata": {},
   "source": [
    "# Fonction split des données d'entrainement"
   ]
  },
  {
   "cell_type": "code",
   "execution_count": 10,
   "id": "0da4b2da",
   "metadata": {},
   "outputs": [],
   "source": [
    "def split(test_sizes):\n",
    "    X1_train, X1_test, y1_train, y1_test = train_test_split(xtrain, ytrain, test_size=test_sizes)\n",
    "    return X1_train, X1_test, y1_train, y1_test"
   ]
  },
  {
   "cell_type": "markdown",
   "id": "828e930e",
   "metadata": {},
   "source": [
    "# Fonction pour l'affichage de la matrice de confusion"
   ]
  },
  {
   "cell_type": "code",
   "execution_count": 58,
   "id": "70d7873c",
   "metadata": {},
   "outputs": [],
   "source": [
    "def matrixconf(ytest, ypred,lettre):\n",
    "    matnb=(confusion_matrix(ytest,ypred))\n",
    "    array = matnb\n",
    "    df_cm = pd.DataFrame(array, index = [i for i in lettre],\n",
    "                  columns = [i for i in lettre])\n",
    "    plt.figure(figsize = (10,7))\n",
    "    sns.heatmap(df_cm, annot=True)"
   ]
  },
  {
   "cell_type": "markdown",
   "id": "332cbb62",
   "metadata": {},
   "source": [
    "# Fonction du OneHotEncoding"
   ]
  },
  {
   "cell_type": "code",
   "execution_count": 12,
   "id": "00721ac8",
   "metadata": {},
   "outputs": [],
   "source": [
    "from numpy import array\n",
    "\n",
    "from numpy import argmax\n",
    "\n",
    "from sklearn.preprocessing import LabelEncoder\n",
    "\n",
    "from sklearn.preprocessing import OneHotEncoder\n",
    "def oneHot(l):\n",
    "    i=0\n",
    "    \n",
    "    tab = np.zeros(shape=(len(l),24,6))\n",
    "    while(i<len(l)):\n",
    "        exemple = l[i]\n",
    "        onehot_encoder = OneHotEncoder(sparse=False)\n",
    "        exemple = exemple.reshape(len(exemple), 1)\n",
    "        onehot_encoder = onehot_encoder.fit_transform(exemple)\n",
    "        tab[i] = onehot_encoder\n",
    "        i=i+1\n",
    "    return tab"
   ]
  },
  {
   "cell_type": "code",
   "execution_count": 162,
   "id": "e403b7bf",
   "metadata": {},
   "outputs": [
    {
     "name": "stdout",
     "output_type": "stream",
     "text": [
      "Dans la classe  1  il y a  3 fois l'observation  1\n",
      "Dans la classe  2  il y a  13 fois l'observation  2\n",
      "Dans la classe  3  il y a  60 fois l'observation  3\n",
      "Dans la classe  4  il y a  267 fois l'observation  4\n",
      "Dans la classe  5  il y a  1128 fois l'observation  5\n",
      "Dans la classe  6  il y a  4485 fois l'observation  6\n",
      "Dans la classe  7  il y a  16529 fois l'observation  7\n",
      "Dans la classe  8  il y a  57074 fois l'observation  8\n",
      "Dans la classe  9  il y a  180254 fois l'observation  9\n",
      "Dans la classe  10  il y a  465294 fois l'observation  10\n",
      "Dans la classe  11  il y a  675426 fois l'observation  11\n",
      "Dans la classe  12  il y a  391268 fois l'observation  12\n",
      "Dans la classe  13  il y a  45140 fois l'observation  13\n",
      "Dans la classe  14  il y a  138 fois l'observation  14\n"
     ]
    }
   ],
   "source": [
    "i=1\n",
    "somme = 0\n",
    "while(i<15):\n",
    "    print(\"Dans la classe \",i,\" il y a \",np.count_nonzero(ytrain == i),\"fois l'observation \",i)\n",
    "  \n",
    "    somme = somme+np.count_nonzero(ytrain == i)\n",
    "    i=i+1\n",
    "#print(\"somme :\",somme)\n"
   ]
  },
  {
   "cell_type": "markdown",
   "id": "815439b1",
   "metadata": {},
   "source": [
    "# ré-échantillonage des données"
   ]
  },
  {
   "cell_type": "code",
   "execution_count": 130,
   "id": "381968ed",
   "metadata": {},
   "outputs": [
    {
     "name": "stdout",
     "output_type": "stream",
     "text": [
      "Resampled dataset shape Counter({10: 465294, 12: 391268, 9: 180254, 8: 57074, 13: 45140, 7: 16529, 6: 4485, 5: 1128, 4: 267, 14: 138, 3: 60, 2: 13, 1: 3, 11: 3})\n"
     ]
    }
   ],
   "source": [
    "#print('Original dataset shape %s' % Counter(ytrain))\n",
    "nm = NearMiss(sampling_strategy = 'majority')\n",
    "X_res, y_res = nm.fit_resample(xtrain, ytrain)\n",
    "print('Resampled dataset shape %s' % Counter(y_res))"
   ]
  },
  {
   "cell_type": "code",
   "execution_count": 131,
   "id": "8d07f0df",
   "metadata": {},
   "outputs": [],
   "source": [
    "X1_train, X1_test, y1_train, y1_test = train_test_split(X_res, y_res, test_size=0.1)"
   ]
  },
  {
   "cell_type": "code",
   "execution_count": 136,
   "id": "ebeb2d2a",
   "metadata": {},
   "outputs": [
    {
     "data": {
      "text/plain": [
       "0.40253602603171323"
      ]
     },
     "execution_count": 136,
     "metadata": {},
     "output_type": "execute_result"
    }
   ],
   "source": [
    "Clf = MLPClassifier(activation = 'identity',solver = 'sgd')\n",
    "Clf.fit(X1_train, y1_train.ravel())\n",
    "mlp_pred2 = Clf.predict(X1_test)\n",
    "accuracy_score(y1_test, mlp_pred2)\n",
    "# amélioration de l'accuracy score"
   ]
  },
  {
   "cell_type": "code",
   "execution_count": 137,
   "id": "ccb6902a",
   "metadata": {},
   "outputs": [],
   "source": [
    "Clf = MLPClassifier(activation = 'identity',solver = 'sgd')\n",
    "Clf.fit(X_res, y_res)\n",
    "mlp_pred2 = Clf.predict(xtest)"
   ]
  },
  {
   "cell_type": "code",
   "execution_count": 139,
   "id": "87943b8e",
   "metadata": {},
   "outputs": [],
   "source": [
    "rendue(mlp_pred2,'neuronnesample2')\n",
    "# n'améliore pas le score sur le site du challenge"
   ]
  },
  {
   "cell_type": "markdown",
   "id": "f376e976",
   "metadata": {},
   "source": [
    "# 1 ) Régression Lineaire"
   ]
  },
  {
   "cell_type": "code",
   "execution_count": 140,
   "id": "e95ae878",
   "metadata": {},
   "outputs": [],
   "source": [
    "X1_train, X1_test, y1_train, y1_test = split(0.1)"
   ]
  },
  {
   "cell_type": "code",
   "execution_count": 141,
   "id": "6e0e2dbf",
   "metadata": {},
   "outputs": [
    {
     "data": {
      "text/plain": [
       "LinearRegression()"
      ]
     },
     "execution_count": 141,
     "metadata": {},
     "output_type": "execute_result"
    }
   ],
   "source": [
    "model = LinearRegression()\n",
    "model.fit(X1_train, y1_train)"
   ]
  },
  {
   "cell_type": "code",
   "execution_count": 142,
   "id": "dc92513b",
   "metadata": {},
   "outputs": [],
   "source": [
    "linpred = model.predict(X1_test)"
   ]
  },
  {
   "cell_type": "code",
   "execution_count": 143,
   "id": "014f5da3",
   "metadata": {},
   "outputs": [
    {
     "data": {
      "image/png": "[encoded data removed]",
      "text/plain": [
       "<Figure size 432x288 with 1 Axes>"
      ]
     },
     "metadata": {
      "needs_background": "light"
     },
     "output_type": "display_data"
    }
   ],
   "source": [
    "from sklearn.model_selection import learning_curve\n",
    "traintaille, trainscore, testscore = learning_curve(model, X=X1_train, y=y1_train.ravel())\n",
    "trainmoyenne = np.mean(trainscore, axis=1)\n",
    "trainstandard = np.std(trainscore, axis=1)\n",
    "testmoyenne = np.mean(testscore, axis=1)\n",
    "teststandard = np.std(testscore, axis=1)\n",
    "plt.plot(traintaille, trainmoyenne, color='red', marker = 's', label=\"train\")\n",
    "plt.fill_between(traintaille,trainmoyenne+trainstandard, trainmoyenne-trainstandard,alpha=0.15, color=\"red\")\n",
    "\n",
    "\n",
    "\n",
    "\n",
    "\n",
    "plt.plot(traintaille, testmoyenne, color='blue', marker = 'o', linestyle='--', label=\"test\")\n",
    "plt.fill_between(traintaille,testmoyenne+teststandard, testmoyenne-teststandard,alpha=0.15,color=\"blue\")\n",
    "\n",
    "\n",
    "\n",
    "\n",
    "\n",
    "plt.grid()\n",
    "plt.xlabel(\"Nombre d'exemples d'entrainement\")\n",
    "plt.ylabel(\"Précision du modèle\")\n",
    "plt.legend(loc='upper right')\n",
    "plt.show()"
   ]
  },
  {
   "cell_type": "code",
   "execution_count": 16,
   "id": "bbcde0b6",
   "metadata": {},
   "outputs": [
    {
     "data": {
      "text/plain": [
       "1.361107386373843"
      ]
     },
     "execution_count": 16,
     "metadata": {},
     "output_type": "execute_result"
    }
   ],
   "source": [
    "mean_squared_error(y1_test, linpred)"
   ]
  },
  {
   "cell_type": "markdown",
   "id": "266de812",
   "metadata": {},
   "source": [
    "##### On remarque que le mse est assez éloignez de 0 ( valeur optimal ) on en déduit que le précision ne sont pas assez précise\n",
    "#### Entrainons maintenant sur toute nos valeurs "
   ]
  },
  {
   "cell_type": "code",
   "execution_count": 11,
   "id": "1f110aa4",
   "metadata": {},
   "outputs": [
    {
     "data": {
      "text/plain": [
       "LinearRegression()"
      ]
     },
     "execution_count": 11,
     "metadata": {},
     "output_type": "execute_result"
    }
   ],
   "source": [
    "model = LinearRegression()\n",
    "model.fit(xtrain, ytrain)"
   ]
  },
  {
   "cell_type": "code",
   "execution_count": 12,
   "id": "2d950137",
   "metadata": {},
   "outputs": [],
   "source": [
    "linpred = model.predict(xtest)"
   ]
  },
  {
   "cell_type": "code",
   "execution_count": 18,
   "id": "3cd27008",
   "metadata": {},
   "outputs": [
    {
     "data": {
      "text/plain": [
       "(1837080, 1)"
      ]
     },
     "execution_count": 18,
     "metadata": {},
     "output_type": "execute_result"
    }
   ],
   "source": [
    "linpred.shape"
   ]
  },
  {
   "cell_type": "markdown",
   "id": "e2f7ae37",
   "metadata": {},
   "source": [
    "### Procédons au rendue pour vérifier le score sur le site du challenge"
   ]
  },
  {
   "cell_type": "code",
   "execution_count": 20,
   "id": "ab5cf798",
   "metadata": {},
   "outputs": [],
   "source": [
    "rendue(linpred.reshape(1837080),'linpred')"
   ]
  },
  {
   "cell_type": "markdown",
   "id": "06911823",
   "metadata": {},
   "source": [
    "# Your submission score is : 0.928567484001525"
   ]
  },
  {
   "cell_type": "markdown",
   "id": "f296585c",
   "metadata": {},
   "source": [
    "# "
   ]
  },
  {
   "cell_type": "markdown",
   "id": "b4e4c912",
   "metadata": {},
   "source": [
    "# 2 ) sgd Regressor"
   ]
  },
  {
   "cell_type": "code",
   "execution_count": 24,
   "id": "94469e25",
   "metadata": {},
   "outputs": [],
   "source": [
    "X1_train, X1_test, y1_train, y1_test = split(0.1)"
   ]
  },
  {
   "cell_type": "code",
   "execution_count": 144,
   "id": "d8ea0304",
   "metadata": {},
   "outputs": [
    {
     "data": {
      "text/plain": [
       "SGDRegressor()"
      ]
     },
     "execution_count": 144,
     "metadata": {},
     "output_type": "execute_result"
    }
   ],
   "source": [
    "clf = SGDRegressor()\n",
    "clf.fit(X1_train, y1_train.ravel())\n"
   ]
  },
  {
   "cell_type": "code",
   "execution_count": 145,
   "id": "e886d5f9",
   "metadata": {},
   "outputs": [],
   "source": [
    "predictions = clf.predict(X1_test)"
   ]
  },
  {
   "cell_type": "code",
   "execution_count": 146,
   "id": "3f813814",
   "metadata": {},
   "outputs": [
    {
     "data": {
      "text/plain": [
       "1.4303884020189146"
      ]
     },
     "execution_count": 146,
     "metadata": {},
     "output_type": "execute_result"
    }
   ],
   "source": [
    "mean_squared_error(y1_test, predictions)"
   ]
  },
  {
   "cell_type": "code",
   "execution_count": 147,
   "id": "70f82184",
   "metadata": {},
   "outputs": [
    {
     "data": {
      "image/png": "[encoded data removed]",
      "text/plain": [
       "<Figure size 432x288 with 1 Axes>"
      ]
     },
     "metadata": {
      "needs_background": "light"
     },
     "output_type": "display_data"
    }
   ],
   "source": [
    "from sklearn.model_selection import learning_curve\n",
    "traintaille, trainscore, testscore = learning_curve(clf, X=X1_train, y=y1_train.ravel())\n",
    "trainmoyenne = np.mean(trainscore, axis=1)\n",
    "trainstandard = np.std(trainscore, axis=1)\n",
    "testmoyenne = np.mean(testscore, axis=1)\n",
    "teststandard = np.std(testscore, axis=1)\n",
    "plt.plot(traintaille, trainmoyenne, color='red', marker = 's', label=\"train\")\n",
    "plt.fill_between(traintaille,trainmoyenne+trainstandard, trainmoyenne-trainstandard,alpha=0.15, color=\"red\")\n",
    "\n",
    "\n",
    "\n",
    "\n",
    "\n",
    "plt.plot(traintaille, testmoyenne, color='blue', marker = 'o', linestyle='--', label=\"test\")\n",
    "plt.fill_between(traintaille,testmoyenne+teststandard, testmoyenne-teststandard,alpha=0.15,color=\"blue\")\n",
    "\n",
    "\n",
    "\n",
    "\n",
    "\n",
    "plt.grid()\n",
    "plt.xlabel(\"Nombre d'exemples d'entrainement\")\n",
    "plt.ylabel(\"Précision du modèle\")\n",
    "plt.legend(loc='upper right')\n",
    "plt.show()"
   ]
  },
  {
   "cell_type": "markdown",
   "id": "3f607b5f",
   "metadata": {},
   "source": [
    "##### On remarque que le mse est assez éloignez de 0 ( valeur optimal ) on en déduit que le précision ne sont pas assez précise\n",
    "#### Entrainons maintenant sur toute nos valeurs "
   ]
  },
  {
   "cell_type": "code",
   "execution_count": 71,
   "id": "676cbfbe",
   "metadata": {},
   "outputs": [
    {
     "name": "stderr",
     "output_type": "stream",
     "text": [
      "C:\\Users\\Mohan\\anaconda3\\lib\\site-packages\\sklearn\\utils\\validation.py:63: DataConversionWarning: A column-vector y was passed when a 1d array was expected. Please change the shape of y to (n_samples, ), for example using ravel().\n",
      "  return f(*args, **kwargs)\n"
     ]
    },
    {
     "data": {
      "text/plain": [
       "SGDRegressor()"
      ]
     },
     "execution_count": 71,
     "metadata": {},
     "output_type": "execute_result"
    }
   ],
   "source": [
    "clf = SGDRegressor()\n",
    "clf.fit(xtrain, ytrain)\n"
   ]
  },
  {
   "cell_type": "code",
   "execution_count": 74,
   "id": "a5296fa3",
   "metadata": {},
   "outputs": [],
   "source": [
    "regrpred = clf.predict(xtest)"
   ]
  },
  {
   "cell_type": "code",
   "execution_count": 75,
   "id": "8bb330e7",
   "metadata": {},
   "outputs": [
    {
     "data": {
      "text/plain": [
       "(1837080,)"
      ]
     },
     "execution_count": 75,
     "metadata": {},
     "output_type": "execute_result"
    }
   ],
   "source": [
    "regrpred.shape"
   ]
  },
  {
   "cell_type": "markdown",
   "id": "ed2e692e",
   "metadata": {},
   "source": [
    "### Procédons au rendue pour vérifier le score sur le site du challenge"
   ]
  },
  {
   "cell_type": "code",
   "execution_count": 76,
   "id": "0752c118",
   "metadata": {},
   "outputs": [],
   "source": [
    "rendue(regrpred,'regrpred')"
   ]
  },
  {
   "cell_type": "markdown",
   "id": "a51557bc",
   "metadata": {},
   "source": [
    "## Your submission score is : 0.8794951805241301"
   ]
  },
  {
   "cell_type": "markdown",
   "id": "ba7ee941",
   "metadata": {},
   "source": [
    "# "
   ]
  },
  {
   "cell_type": "markdown",
   "id": "10740365",
   "metadata": {},
   "source": [
    "# 3 ) k plus proche voisin "
   ]
  },
  {
   "cell_type": "code",
   "execution_count": 148,
   "id": "28b205f6",
   "metadata": {},
   "outputs": [],
   "source": [
    "X1_train, X1_test, y1_train, y1_test = split(0.1)"
   ]
  },
  {
   "cell_type": "code",
   "execution_count": 149,
   "id": "9c622c76",
   "metadata": {},
   "outputs": [
    {
     "data": {
      "text/plain": [
       "KNeighborsClassifier(n_neighbors=12)"
      ]
     },
     "execution_count": 149,
     "metadata": {},
     "output_type": "execute_result"
    }
   ],
   "source": [
    "knn = KNeighborsClassifier(n_neighbors=12)\n",
    "knn.fit(X1_train,y1_train.ravel())\n"
   ]
  },
  {
   "cell_type": "code",
   "execution_count": 150,
   "id": "02e25ea4",
   "metadata": {},
   "outputs": [
    {
     "data": {
      "text/plain": [
       "0.444"
      ]
     },
     "execution_count": 150,
     "metadata": {},
     "output_type": "execute_result"
    }
   ],
   "source": [
    "yknn_pred = knn.predict(X1_test[:1000])\n",
    "accuracy_score(y1_test[:1000], yknn_pred)"
   ]
  },
  {
   "cell_type": "code",
   "execution_count": 64,
   "id": "2408cb96",
   "metadata": {
    "scrolled": false
   },
   "outputs": [
    {
     "name": "stdout",
     "output_type": "stream",
     "text": [
      "Results on the test set:\n",
      "              precision    recall  f1-score   support\n",
      "\n",
      "           8       0.00      0.00      0.00        36\n",
      "           9       0.12      0.05      0.07        99\n",
      "          10       0.36      0.48      0.41       228\n",
      "          11       0.53      0.77      0.63       383\n",
      "          12       0.35      0.16      0.22       215\n",
      "\n",
      "   micro avg       0.45      0.46      0.45       961\n",
      "   macro avg       0.27      0.29      0.27       961\n",
      "weighted avg       0.39      0.46      0.41       961\n",
      "\n"
     ]
    },
    {
     "data": {
      "image/png": "[encoded data removed]",
      "text/plain": [
       "<Figure size 720x504 with 2 Axes>"
      ]
     },
     "metadata": {
      "needs_background": "light"
     },
     "output_type": "display_data"
    }
   ],
   "source": [
    "print('Results on the test set:')\n",
    "print(classification_report(y1_test[:1000], yknn_pred, labels=np.unique(yknn_pred)))\n",
    "matrixconf(y1_test[:1000], yknn_pred,'ABCDEFGH')"
   ]
  },
  {
   "cell_type": "markdown",
   "id": "eca0125a",
   "metadata": {},
   "source": [
    "### Pour executer la prédiction sur seulement 1000 valeurs il nous a fallut 2min\n",
    "### Pour 1 830 000 valeurs il nous faudra donc 1830000*2 / 1000 = 3660 min = 2,5 jours\n",
    "### Pour des raisons évidentes on ne continuera pas avec"
   ]
  },
  {
   "cell_type": "markdown",
   "id": "cdba9d61",
   "metadata": {},
   "source": [
    "# "
   ]
  },
  {
   "cell_type": "markdown",
   "id": "083a55b0",
   "metadata": {},
   "source": [
    "# 4 ) Naive bayesienne"
   ]
  },
  {
   "cell_type": "markdown",
   "id": "052cb4db",
   "metadata": {},
   "source": [
    "## a ) Gaussian"
   ]
  },
  {
   "cell_type": "code",
   "execution_count": 152,
   "id": "8bb5dea5",
   "metadata": {},
   "outputs": [],
   "source": [
    "X1_train, X1_test, y1_train, y1_test = split(0.1)"
   ]
  },
  {
   "cell_type": "code",
   "execution_count": 153,
   "id": "4c9b0509",
   "metadata": {},
   "outputs": [
    {
     "name": "stderr",
     "output_type": "stream",
     "text": [
      "C:\\Users\\Mohan\\anaconda3\\lib\\site-packages\\sklearn\\utils\\validation.py:63: DataConversionWarning: A column-vector y was passed when a 1d array was expected. Please change the shape of y to (n_samples, ), for example using ravel().\n",
      "  return f(*args, **kwargs)\n"
     ]
    },
    {
     "data": {
      "text/plain": [
       "0.36113832821651753"
      ]
     },
     "execution_count": 153,
     "metadata": {},
     "output_type": "execute_result"
    }
   ],
   "source": [
    "nb = GaussianNB()\n",
    "nb.fit(X1_train, y1_train)\n",
    "ynb_pred = nb.predict(X1_test)\n",
    "accuracy_score(y1_test, ynb_pred)\n"
   ]
  },
  {
   "cell_type": "code",
   "execution_count": 154,
   "id": "9f54908c",
   "metadata": {},
   "outputs": [
    {
     "name": "stderr",
     "output_type": "stream",
     "text": [
      "C:\\Users\\Mohan\\anaconda3\\lib\\site-packages\\sklearn\\model_selection\\_split.py:666: UserWarning: The least populated class in y has only 2 members, which is less than n_splits=5.\n",
      "  warnings.warn((\"The least populated class in y has only %d\"\n"
     ]
    },
    {
     "data": {
      "image/png": "[encoded data removed]",
      "text/plain": [
       "<Figure size 432x288 with 1 Axes>"
      ]
     },
     "metadata": {
      "needs_background": "light"
     },
     "output_type": "display_data"
    }
   ],
   "source": [
    "from sklearn.model_selection import learning_curve\n",
    "traintaille, trainscore, testscore = learning_curve(nb, X=X1_train, y=y1_train.ravel())\n",
    "trainmoyenne = np.mean(trainscore, axis=1)\n",
    "trainstandard = np.std(trainscore, axis=1)\n",
    "testmoyenne = np.mean(testscore, axis=1)\n",
    "teststandard = np.std(testscore, axis=1)\n",
    "plt.plot(traintaille, trainmoyenne, color='red', marker = 's', label=\"train\")\n",
    "plt.fill_between(traintaille,trainmoyenne+trainstandard, trainmoyenne-trainstandard,alpha=0.15, color=\"red\")\n",
    "\n",
    "\n",
    "\n",
    "\n",
    "\n",
    "plt.plot(traintaille, testmoyenne, color='blue', marker = 'o', linestyle='--', label=\"test\")\n",
    "plt.fill_between(traintaille,testmoyenne+teststandard, testmoyenne-teststandard,alpha=0.15,color=\"blue\")\n",
    "\n",
    "\n",
    "\n",
    "\n",
    "\n",
    "plt.grid()\n",
    "plt.xlabel(\"Nombre d'exemples d'entrainement\")\n",
    "plt.ylabel(\"Précision du modèle\")\n",
    "plt.legend(loc='upper right')\n",
    "plt.show()"
   ]
  },
  {
   "cell_type": "markdown",
   "id": "f21d244c",
   "metadata": {},
   "source": [
    "## b ) Multinomial"
   ]
  },
  {
   "cell_type": "code",
   "execution_count": 38,
   "id": "a57bc535",
   "metadata": {},
   "outputs": [
    {
     "name": "stderr",
     "output_type": "stream",
     "text": [
      "C:\\Users\\Mohan\\anaconda3\\lib\\site-packages\\sklearn\\utils\\validation.py:63: DataConversionWarning: A column-vector y was passed when a 1d array was expected. Please change the shape of y to (n_samples, ), for example using ravel().\n",
      "  return f(*args, **kwargs)\n"
     ]
    },
    {
     "data": {
      "text/plain": [
       "0.3668158164042938"
      ]
     },
     "execution_count": 38,
     "metadata": {},
     "output_type": "execute_result"
    }
   ],
   "source": [
    "clf = MultinomialNB()\n",
    "clf.fit(X1_train, y1_train)\n",
    "ynb_pred = clf.predict(X1_test)\n",
    "accuracy_score(y1_test, ynb_pred)"
   ]
  },
  {
   "cell_type": "code",
   "execution_count": 163,
   "id": "be44f8ab",
   "metadata": {},
   "outputs": [
    {
     "data": {
      "image/png": "[encoded data removed]",
      "text/plain": [
       "<Figure size 432x288 with 1 Axes>"
      ]
     },
     "metadata": {
      "needs_background": "light"
     },
     "output_type": "display_data"
    }
   ],
   "source": [
    "from sklearn.model_selection import learning_curve\n",
    "traintaille, trainscore, testscore = learning_curve(clf, X=X1_train, y=y1_train.ravel())\n",
    "trainmoyenne = np.mean(trainscore, axis=1)\n",
    "trainstandard = np.std(trainscore, axis=1)\n",
    "testmoyenne = np.mean(testscore, axis=1)\n",
    "teststandard = np.std(testscore, axis=1)\n",
    "plt.plot(traintaille, trainmoyenne, color='red', marker = 's', label=\"train\")\n",
    "plt.fill_between(traintaille,trainmoyenne+trainstandard, trainmoyenne-trainstandard,alpha=0.15, color=\"red\")\n",
    "\n",
    "\n",
    "\n",
    "\n",
    "\n",
    "plt.plot(traintaille, testmoyenne, color='blue', marker = 'o', linestyle='--', label=\"test\")\n",
    "plt.fill_between(traintaille,testmoyenne+teststandard, testmoyenne-teststandard,alpha=0.15,color=\"blue\")\n",
    "\n",
    "\n",
    "\n",
    "\n",
    "\n",
    "plt.grid()\n",
    "plt.xlabel(\"Nombre d'exemples d'entrainement\")\n",
    "plt.ylabel(\"Précision du modèle\")\n",
    "plt.legend(loc='upper right')\n",
    "plt.show()"
   ]
  },
  {
   "cell_type": "markdown",
   "id": "5cfad1b9",
   "metadata": {},
   "source": [
    "## c ) Catégorielle"
   ]
  },
  {
   "cell_type": "code",
   "execution_count": 65,
   "id": "d0f4d7f0",
   "metadata": {},
   "outputs": [
    {
     "name": "stderr",
     "output_type": "stream",
     "text": [
      "C:\\Users\\Mohan\\anaconda3\\lib\\site-packages\\sklearn\\utils\\validation.py:63: DataConversionWarning: A column-vector y was passed when a 1d array was expected. Please change the shape of y to (n_samples, ), for example using ravel().\n",
      "  return f(*args, **kwargs)\n"
     ]
    },
    {
     "data": {
      "text/plain": [
       "0.3695865177346659"
      ]
     },
     "execution_count": 65,
     "metadata": {},
     "output_type": "execute_result"
    }
   ],
   "source": [
    "clf = CategoricalNB()\n",
    "clf.fit(X1_train, y1_train)\n",
    "ynb_pred3 = clf.predict(X1_test)\n",
    "accuracy_score(y1_test, ynb_pred3)"
   ]
  },
  {
   "cell_type": "code",
   "execution_count": 164,
   "id": "5865deb3",
   "metadata": {},
   "outputs": [
    {
     "data": {
      "image/png": "[encoded data removed]",
      "text/plain": [
       "<Figure size 432x288 with 1 Axes>"
      ]
     },
     "metadata": {
      "needs_background": "light"
     },
     "output_type": "display_data"
    }
   ],
   "source": [
    "from sklearn.model_selection import learning_curve\n",
    "traintaille, trainscore, testscore = learning_curve(clf, X=X1_train, y=y1_train.ravel())\n",
    "trainmoyenne = np.mean(trainscore, axis=1)\n",
    "trainstandard = np.std(trainscore, axis=1)\n",
    "testmoyenne = np.mean(testscore, axis=1)\n",
    "teststandard = np.std(testscore, axis=1)\n",
    "plt.plot(traintaille, trainmoyenne, color='red', marker = 's', label=\"train\")\n",
    "plt.fill_between(traintaille,trainmoyenne+trainstandard, trainmoyenne-trainstandard,alpha=0.15, color=\"red\")\n",
    "\n",
    "\n",
    "\n",
    "\n",
    "\n",
    "plt.plot(traintaille, testmoyenne, color='blue', marker = 'o', linestyle='--', label=\"test\")\n",
    "plt.fill_between(traintaille,testmoyenne+teststandard, testmoyenne-teststandard,alpha=0.15,color=\"blue\")\n",
    "\n",
    "\n",
    "\n",
    "\n",
    "\n",
    "plt.grid()\n",
    "plt.xlabel(\"Nombre d'exemples d'entrainement\")\n",
    "plt.ylabel(\"Précision du modèle\")\n",
    "plt.legend(loc='upper right')\n",
    "plt.show()"
   ]
  },
  {
   "cell_type": "code",
   "execution_count": 66,
   "id": "d9c8a08d",
   "metadata": {},
   "outputs": [
    {
     "name": "stdout",
     "output_type": "stream",
     "text": [
      "Results on the test set:\n",
      "              precision    recall  f1-score   support\n",
      "\n",
      "          11       0.37      1.00      0.54     67896\n",
      "\n",
      "   micro avg       0.37      1.00      0.54     67896\n",
      "   macro avg       0.37      1.00      0.54     67896\n",
      "weighted avg       0.37      1.00      0.54     67896\n",
      "\n"
     ]
    },
    {
     "data": {
      "image/png": "[encoded data removed]",
      "text/plain": [
       "<Figure size 720x504 with 2 Axes>"
      ]
     },
     "metadata": {
      "needs_background": "light"
     },
     "output_type": "display_data"
    }
   ],
   "source": [
    "print('Results on the test set:')\n",
    "print(classification_report(y1_test, ynb_pred3, labels=np.unique(ynb_pred3)))\n",
    "matrixconf(y1_test, ynb_pred3,'ABCDEFGHIKLMN')"
   ]
  },
  {
   "cell_type": "markdown",
   "id": "a1500ce2",
   "metadata": {},
   "source": [
    "#### On déduit que la méthode naive bayesienne multinomial est plus performante que la Gaussienne mais à le meme score que la catégorielle\n",
    "#### Vérifions cela avec le rendue sur le site du challenge :"
   ]
  },
  {
   "cell_type": "code",
   "execution_count": 72,
   "id": "0ea737b1",
   "metadata": {},
   "outputs": [
    {
     "name": "stderr",
     "output_type": "stream",
     "text": [
      "C:\\Users\\Mohan\\anaconda3\\lib\\site-packages\\sklearn\\utils\\validation.py:63: DataConversionWarning: A column-vector y was passed when a 1d array was expected. Please change the shape of y to (n_samples, ), for example using ravel().\n",
      "  return f(*args, **kwargs)\n"
     ]
    }
   ],
   "source": [
    "nb = GaussianNB()\n",
    "nb.fit(xtrain, ytrain)\n",
    "ynb_pred = nb.predict(xtest)"
   ]
  },
  {
   "cell_type": "code",
   "execution_count": 73,
   "id": "e63a5337",
   "metadata": {},
   "outputs": [],
   "source": [
    "rendue(ynb_pred,'nbGauss')"
   ]
  },
  {
   "cell_type": "code",
   "execution_count": 74,
   "id": "7ef26ac5",
   "metadata": {},
   "outputs": [
    {
     "name": "stderr",
     "output_type": "stream",
     "text": [
      "C:\\Users\\Mohan\\anaconda3\\lib\\site-packages\\sklearn\\utils\\validation.py:63: DataConversionWarning: A column-vector y was passed when a 1d array was expected. Please change the shape of y to (n_samples, ), for example using ravel().\n",
      "  return f(*args, **kwargs)\n"
     ]
    }
   ],
   "source": [
    "clf = MultinomialNB()\n",
    "clf.fit(xtrain, ytrain)\n",
    "ynb_pred2 = clf.predict(xtest)"
   ]
  },
  {
   "cell_type": "code",
   "execution_count": 75,
   "id": "b1493901",
   "metadata": {},
   "outputs": [],
   "source": [
    "rendue(ynb_pred2,'nbMulti')"
   ]
  },
  {
   "cell_type": "code",
   "execution_count": 79,
   "id": "0c399125",
   "metadata": {},
   "outputs": [
    {
     "name": "stderr",
     "output_type": "stream",
     "text": [
      "C:\\Users\\Mohan\\anaconda3\\lib\\site-packages\\sklearn\\utils\\validation.py:63: DataConversionWarning: A column-vector y was passed when a 1d array was expected. Please change the shape of y to (n_samples, ), for example using ravel().\n",
      "  return f(*args, **kwargs)\n"
     ]
    }
   ],
   "source": [
    "clf = CategoricalNB()\n",
    "clf.fit(xtrain, ytrain)\n",
    "ynb_pred3 = clf.predict(xtest)"
   ]
  },
  {
   "cell_type": "code",
   "execution_count": 80,
   "id": "6f3c677f",
   "metadata": {},
   "outputs": [],
   "source": [
    "rendue(ynb_pred3,'nbCateg')"
   ]
  },
  {
   "cell_type": "markdown",
   "id": "6f50e5a2",
   "metadata": {},
   "source": [
    "### nbGauss -> Your submission score is : 0.9999608073682148    \n",
    "### nbMulti -> Your submission score is : 0.8589076142574085\n",
    "### nbCateg -> Your submission score is : 0.8589076142574085\n",
    "\n",
    "### On a bien la confirmation que la méthode Naive Bayesienne multionomial et catégorielle est meilleur que la gausienne\n",
    "\n",
    "#   "
   ]
  },
  {
   "cell_type": "markdown",
   "id": "24b28287",
   "metadata": {},
   "source": [
    "#  5 ) random forest"
   ]
  },
  {
   "cell_type": "code",
   "execution_count": 170,
   "id": "b2e56b1d",
   "metadata": {},
   "outputs": [],
   "source": [
    "X1_train, X1_test, y1_train, y1_test = split(0.1)"
   ]
  },
  {
   "cell_type": "code",
   "execution_count": 171,
   "id": "eb627556",
   "metadata": {},
   "outputs": [],
   "source": [
    "clf = RandomForestClassifier(n_estimators=10,max_depth=8)"
   ]
  },
  {
   "cell_type": "code",
   "execution_count": 172,
   "id": "f90aaae3",
   "metadata": {},
   "outputs": [
    {
     "name": "stderr",
     "output_type": "stream",
     "text": [
      "C:\\Users\\Mohan\\anaconda3\\lib\\site-packages\\sklearn\\utils\\validation.py:70: FutureWarning: Pass param_name=n_estimators, param_range=[1 2 3 4 5 6 7 8 9] as keyword args. From version 1.0 (renaming of 0.25) passing these as positional arguments will result in an error\n",
      "  warnings.warn(f\"Pass {args_msg} as keyword args. From version \"\n",
      "C:\\Users\\Mohan\\anaconda3\\lib\\site-packages\\sklearn\\model_selection\\_split.py:666: UserWarning: The least populated class in y has only 2 members, which is less than n_splits=3.\n",
      "  warnings.warn((\"The least populated class in y has only %d\"\n"
     ]
    },
    {
     "data": {
      "text/plain": [
       "[<matplotlib.lines.Line2D at 0x1b01257b700>]"
      ]
     },
     "execution_count": 172,
     "metadata": {},
     "output_type": "execute_result"
    },
    {
     "data": {
      "image/png": "[encoded data removed]",
      "text/plain": [
       "<Figure size 432x288 with 1 Axes>"
      ]
     },
     "metadata": {
      "needs_background": "light"
     },
     "output_type": "display_data"
    }
   ],
   "source": [
    "n=np.arange(1,10)\n",
    "trainscore,valscore= validation_curve(clf,X1_train, y1_train.ravel(),'n_estimators',n,cv=3)\n",
    "plt.plot(n,valscore.mean(axis=1))"
   ]
  },
  {
   "cell_type": "code",
   "execution_count": 173,
   "id": "61e3cfca",
   "metadata": {},
   "outputs": [
    {
     "name": "stderr",
     "output_type": "stream",
     "text": [
      "C:\\Users\\Mohan\\anaconda3\\lib\\site-packages\\sklearn\\model_selection\\_split.py:666: UserWarning: The least populated class in y has only 2 members, which is less than n_splits=5.\n",
      "  warnings.warn((\"The least populated class in y has only %d\"\n"
     ]
    },
    {
     "data": {
      "image/png": "[encoded data removed]",
      "text/plain": [
       "<Figure size 432x288 with 1 Axes>"
      ]
     },
     "metadata": {
      "needs_background": "light"
     },
     "output_type": "display_data"
    }
   ],
   "source": [
    "from sklearn.model_selection import learning_curve\n",
    "traintaille, trainscore, testscore = learning_curve(clf, X=X1_train, y=y1_train.ravel())\n",
    "trainmoyenne = np.mean(trainscore, axis=1)\n",
    "trainstandard = np.std(trainscore, axis=1)\n",
    "testmoyenne = np.mean(testscore, axis=1)\n",
    "teststandard = np.std(testscore, axis=1)\n",
    "plt.plot(traintaille, trainmoyenne, color='red', marker = 's', label=\"train\")\n",
    "plt.fill_between(traintaille,trainmoyenne+trainstandard, trainmoyenne-trainstandard,alpha=0.15, color=\"red\")\n",
    "\n",
    "\n",
    "\n",
    "\n",
    "\n",
    "plt.plot(traintaille, testmoyenne, color='blue', marker = 'o', linestyle='--', label=\"test\")\n",
    "plt.fill_between(traintaille,testmoyenne+teststandard, testmoyenne-teststandard,alpha=0.15,color=\"blue\")\n",
    "\n",
    "\n",
    "\n",
    "\n",
    "\n",
    "plt.grid()\n",
    "plt.xlabel(\"Nombre d'exemples d'entrainement\")\n",
    "plt.ylabel(\"Précision du modèle\")\n",
    "plt.legend(loc='upper right')\n",
    "plt.show()"
   ]
  },
  {
   "cell_type": "code",
   "execution_count": 96,
   "id": "3b84e7fb",
   "metadata": {},
   "outputs": [],
   "source": [
    "clf = RandomForestClassifier(n_estimators=4,max_depth=8)"
   ]
  },
  {
   "cell_type": "code",
   "execution_count": 97,
   "id": "06c4e087",
   "metadata": {},
   "outputs": [
    {
     "name": "stderr",
     "output_type": "stream",
     "text": [
      "<ipython-input-97-59f3a286deaf>:2: DataConversionWarning: A column-vector y was passed when a 1d array was expected. Please change the shape of y to (n_samples,), for example using ravel().\n",
      "  clf.fit(X1_train, y1_train)\n"
     ]
    },
    {
     "data": {
      "text/plain": [
       "RandomForestClassifier(max_depth=8, n_estimators=4)"
      ]
     },
     "execution_count": 97,
     "metadata": {},
     "output_type": "execute_result"
    }
   ],
   "source": [
    "X1_train, X1_test, y1_train, y1_test = split(0.1)\n",
    "clf.fit(X1_train, y1_train)"
   ]
  },
  {
   "cell_type": "code",
   "execution_count": 98,
   "id": "784f59ed",
   "metadata": {},
   "outputs": [
    {
     "data": {
      "text/plain": [
       "0.3673928190389096"
      ]
     },
     "execution_count": 98,
     "metadata": {},
     "output_type": "execute_result"
    }
   ],
   "source": [
    "rdmfrpred=clf.predict(X1_test)\n",
    "accuracy_score(y1_test, rdmfrpred)"
   ]
  },
  {
   "cell_type": "code",
   "execution_count": 100,
   "id": "0c615091",
   "metadata": {},
   "outputs": [
    {
     "name": "stdout",
     "output_type": "stream",
     "text": [
      "Results on the test set:\n",
      "              precision    recall  f1-score   support\n",
      "\n",
      "          10       0.00      0.00      0.00     46602\n",
      "          11       0.37      1.00      0.54     67494\n",
      "          12       0.00      0.00      0.00     39039\n",
      "\n",
      "   micro avg       0.37      0.44      0.40    153135\n",
      "   macro avg       0.12      0.33      0.18    153135\n",
      "weighted avg       0.16      0.44      0.24    153135\n",
      "\n"
     ]
    },
    {
     "data": {
      "image/png": "[encoded data removed]",
      "text/plain": [
       "<Figure size 720x504 with 2 Axes>"
      ]
     },
     "metadata": {
      "needs_background": "light"
     },
     "output_type": "display_data"
    }
   ],
   "source": [
    "print('Results on the test set:')\n",
    "print(classification_report(y1_test, rdmfrpred, labels=np.unique(rdmfrpred)))\n",
    "matrixconf(y1_test, rdmfrpred,'ABCDEFGHIKLMNO')"
   ]
  },
  {
   "cell_type": "markdown",
   "id": "319759f5",
   "metadata": {},
   "source": [
    "### On remarque que l'accuracy_score est assez éloignez de 1  ( valeur optimal ) mais c'est le meilleur score qu'on à pour l'instant\n",
    "#### Entrainons maintenant sur toute nos valeurs "
   ]
  },
  {
   "cell_type": "code",
   "execution_count": null,
   "id": "5e015ca0",
   "metadata": {},
   "outputs": [],
   "source": [
    "clf = RandomForestClassifier(n_estimators=10,max_depth=4)\n",
    "clf.fit(xtrain, ytrain)\n",
    "rdmfrpred=clf.predict(xtest)"
   ]
  },
  {
   "cell_type": "markdown",
   "id": "52051be0",
   "metadata": {},
   "source": [
    "### Procédons au rendue pour vérifier le score sur le site du challenge\n",
    " "
   ]
  },
  {
   "cell_type": "code",
   "execution_count": null,
   "id": "226a69b8",
   "metadata": {},
   "outputs": [],
   "source": [
    "rendue(rdmfrpred,'randomfrpred')"
   ]
  },
  {
   "cell_type": "markdown",
   "id": "fd3cd388",
   "metadata": {},
   "source": [
    "### Your submission score is : 0.858907614257408\t"
   ]
  },
  {
   "cell_type": "markdown",
   "id": "3d5dd20b",
   "metadata": {},
   "source": [
    "# 6 ) ARBRE DE DECISION "
   ]
  },
  {
   "cell_type": "code",
   "execution_count": 45,
   "id": "f7911405",
   "metadata": {},
   "outputs": [],
   "source": [
    "X1_train, X1_test, y1_train, y1_test = train_test_split(xtrain, ytrain, test_size=0.1)"
   ]
  },
  {
   "cell_type": "markdown",
   "id": "82ed48b8",
   "metadata": {},
   "source": [
    "# I ) Classifier"
   ]
  },
  {
   "cell_type": "markdown",
   "id": "f751eb03",
   "metadata": {},
   "source": [
    "## a ) Gini"
   ]
  },
  {
   "cell_type": "code",
   "execution_count": 174,
   "id": "7a52039b",
   "metadata": {},
   "outputs": [],
   "source": [
    "dtree1 = DecisionTreeClassifier(criterion=\"gini\")\n",
    "dtree1.fit(X1_train, y1_train)\n",
    "ydtree1_pred = dtree1.predict(X1_test)"
   ]
  },
  {
   "cell_type": "code",
   "execution_count": 175,
   "id": "3dde3af7",
   "metadata": {},
   "outputs": [
    {
     "data": {
      "text/plain": [
       "0.1619798811156836"
      ]
     },
     "execution_count": 175,
     "metadata": {},
     "output_type": "execute_result"
    }
   ],
   "source": [
    "accuracy_score(y1_test, ydtree1_pred)"
   ]
  },
  {
   "cell_type": "code",
   "execution_count": 73,
   "id": "3080f046",
   "metadata": {},
   "outputs": [
    {
     "name": "stdout",
     "output_type": "stream",
     "text": [
      "Results on the test set:\n"
     ]
    },
    {
     "name": "stderr",
     "output_type": "stream",
     "text": [
      "C:\\Users\\Mohan\\anaconda3\\lib\\site-packages\\sklearn\\metrics\\_classification.py:1245: UndefinedMetricWarning: Recall and F-score are ill-defined and being set to 0.0 in labels with no true samples. Use `zero_division` parameter to control this behavior.\n",
      "  _warn_prf(average, modifier, msg_start, len(result))\n",
      "C:\\Users\\Mohan\\anaconda3\\lib\\site-packages\\sklearn\\metrics\\_classification.py:1245: UndefinedMetricWarning: Recall and F-score are ill-defined and being set to 0.0 in labels with no true samples. Use `zero_division` parameter to control this behavior.\n",
      "  _warn_prf(average, modifier, msg_start, len(result))\n",
      "C:\\Users\\Mohan\\anaconda3\\lib\\site-packages\\sklearn\\metrics\\_classification.py:1245: UndefinedMetricWarning: Recall and F-score are ill-defined and being set to 0.0 in labels with no true samples. Use `zero_division` parameter to control this behavior.\n",
      "  _warn_prf(average, modifier, msg_start, len(result))\n"
     ]
    },
    {
     "name": "stdout",
     "output_type": "stream",
     "text": [
      "              precision    recall  f1-score   support\n",
      "\n",
      "           1       0.00      0.00      0.00         0\n",
      "           3       0.00      0.00      0.00         7\n",
      "           4       0.00      0.00      0.00        15\n",
      "           5       0.01      0.01      0.01        99\n",
      "           6       0.00      0.00      0.00       466\n",
      "           7       0.01      0.01      0.01      1635\n",
      "           8       0.03      0.03      0.03      5674\n",
      "           9       0.07      0.07      0.07     17770\n",
      "          10       0.16      0.16      0.16     46453\n",
      "          11       0.23      0.22      0.23     67788\n",
      "          12       0.14      0.14      0.14     39247\n",
      "          13       0.02      0.02      0.02      4540\n",
      "          14       0.00      0.00      0.00        12\n",
      "\n",
      "   micro avg       0.16      0.16      0.16    183706\n",
      "   macro avg       0.05      0.05      0.05    183706\n",
      "weighted avg       0.16      0.16      0.16    183706\n",
      "\n"
     ]
    },
    {
     "data": {
      "image/png": "[encoded data removed]",
      "text/plain": [
       "<Figure size 720x504 with 2 Axes>"
      ]
     },
     "metadata": {
      "needs_background": "light"
     },
     "output_type": "display_data"
    }
   ],
   "source": [
    "print('Results on the test set:')\n",
    "print(classification_report(y1_test, ydtree1_pred, labels=np.unique(ydtree1_pred)))\n",
    "matrixconf(y1_test, ydtree1_pred,'ABCDEFGHIKLMNO')"
   ]
  },
  {
   "cell_type": "code",
   "execution_count": 176,
   "id": "8a9b115f",
   "metadata": {},
   "outputs": [
    {
     "name": "stderr",
     "output_type": "stream",
     "text": [
      "C:\\Users\\Mohan\\anaconda3\\lib\\site-packages\\sklearn\\model_selection\\_split.py:666: UserWarning: The least populated class in y has only 2 members, which is less than n_splits=5.\n",
      "  warnings.warn((\"The least populated class in y has only %d\"\n"
     ]
    },
    {
     "data": {
      "image/png": "[encoded data removed]",
      "text/plain": [
       "<Figure size 432x288 with 1 Axes>"
      ]
     },
     "metadata": {
      "needs_background": "light"
     },
     "output_type": "display_data"
    }
   ],
   "source": [
    "from sklearn.model_selection import learning_curve\n",
    "traintaille, trainscore, testscore = learning_curve(dtree1, X=X1_train, y=y1_train.ravel())\n",
    "trainmoyenne = np.mean(trainscore, axis=1)\n",
    "trainstandard = np.std(trainscore, axis=1)\n",
    "testmoyenne = np.mean(testscore, axis=1)\n",
    "teststandard = np.std(testscore, axis=1)\n",
    "plt.plot(traintaille, trainmoyenne, color='red', marker = 's', label=\"train\")\n",
    "plt.fill_between(traintaille,trainmoyenne+trainstandard, trainmoyenne-trainstandard,alpha=0.15, color=\"red\")\n",
    "\n",
    "\n",
    "\n",
    "\n",
    "\n",
    "plt.plot(traintaille, testmoyenne, color='blue', marker = 'o', linestyle='--', label=\"test\")\n",
    "plt.fill_between(traintaille,testmoyenne+teststandard, testmoyenne-teststandard,alpha=0.15,color=\"blue\")\n",
    "\n",
    "\n",
    "\n",
    "\n",
    "\n",
    "plt.grid()\n",
    "plt.xlabel(\"Nombre d'exemples d'entrainement\")\n",
    "plt.ylabel(\"Précision du modèle\")\n",
    "plt.legend(loc='upper right')\n",
    "plt.show()"
   ]
  },
  {
   "cell_type": "markdown",
   "id": "3251c855",
   "metadata": {},
   "source": [
    "## b ) Entropy"
   ]
  },
  {
   "cell_type": "code",
   "execution_count": 177,
   "id": "f27d0fce",
   "metadata": {},
   "outputs": [],
   "source": [
    "dtree2 =DecisionTreeClassifier(criterion=\"entropy\")\n",
    "dtree2.fit(X1_train, y1_train)\n",
    "ydtree2_pred = dtree1.predict(X1_test)"
   ]
  },
  {
   "cell_type": "code",
   "execution_count": 178,
   "id": "19cd43ca",
   "metadata": {},
   "outputs": [
    {
     "data": {
      "text/plain": [
       "0.1619798811156836"
      ]
     },
     "execution_count": 178,
     "metadata": {},
     "output_type": "execute_result"
    }
   ],
   "source": [
    "accuracy_score(y1_test, ydtree2_pred)"
   ]
  },
  {
   "cell_type": "code",
   "execution_count": 179,
   "id": "53e7caaf",
   "metadata": {},
   "outputs": [
    {
     "name": "stderr",
     "output_type": "stream",
     "text": [
      "C:\\Users\\Mohan\\anaconda3\\lib\\site-packages\\sklearn\\model_selection\\_split.py:666: UserWarning: The least populated class in y has only 2 members, which is less than n_splits=5.\n",
      "  warnings.warn((\"The least populated class in y has only %d\"\n"
     ]
    },
    {
     "data": {
      "image/png": "[encoded data removed]",
      "text/plain": [
       "<Figure size 432x288 with 1 Axes>"
      ]
     },
     "metadata": {
      "needs_background": "light"
     },
     "output_type": "display_data"
    }
   ],
   "source": [
    "from sklearn.model_selection import learning_curve\n",
    "traintaille, trainscore, testscore = learning_curve(dtree2, X=X1_train, y=y1_train.ravel())\n",
    "trainmoyenne = np.mean(trainscore, axis=1)\n",
    "trainstandard = np.std(trainscore, axis=1)\n",
    "testmoyenne = np.mean(testscore, axis=1)\n",
    "teststandard = np.std(testscore, axis=1)\n",
    "plt.plot(traintaille, trainmoyenne, color='red', marker = 's', label=\"train\")\n",
    "plt.fill_between(traintaille,trainmoyenne+trainstandard, trainmoyenne-trainstandard,alpha=0.15, color=\"red\")\n",
    "\n",
    "\n",
    "\n",
    "\n",
    "\n",
    "plt.plot(traintaille, testmoyenne, color='blue', marker = 'o', linestyle='--', label=\"test\")\n",
    "plt.fill_between(traintaille,testmoyenne+teststandard, testmoyenne-teststandard,alpha=0.15,color=\"blue\")\n",
    "\n",
    "\n",
    "\n",
    "\n",
    "\n",
    "plt.grid()\n",
    "plt.xlabel(\"Nombre d'exemples d'entrainement\")\n",
    "plt.ylabel(\"Précision du modèle\")\n",
    "plt.legend(loc='upper right')\n",
    "plt.show()"
   ]
  },
  {
   "cell_type": "markdown",
   "id": "bb732d04",
   "metadata": {},
   "source": [
    "#### On déduit que la méthode de l'arbre de décission Giniienne est un peu plus performante que l'Entropy voir équivalente \n",
    "#### Vérifions cela avec le rendue sur le site du challenge :"
   ]
  },
  {
   "cell_type": "code",
   "execution_count": 115,
   "id": "c7eff090",
   "metadata": {},
   "outputs": [],
   "source": [
    "dtree1 = DecisionTreeClassifier(criterion=\"gini\")\n",
    "dtree1.fit(xtrain, ytrain)\n",
    "ydtree1_pred = dtree1.predict(xtest)"
   ]
  },
  {
   "cell_type": "code",
   "execution_count": 116,
   "id": "447aa9b8",
   "metadata": {},
   "outputs": [],
   "source": [
    "rendue(ydtree1_pred,'Ginipred')"
   ]
  },
  {
   "cell_type": "code",
   "execution_count": 117,
   "id": "78f365ac",
   "metadata": {},
   "outputs": [],
   "source": [
    "dtree1 = DecisionTreeClassifier(criterion=\"entropy\")\n",
    "dtree1.fit(xtrain, ytrain)\n",
    "ydtree1_pred = dtree1.predict(xtest)"
   ]
  },
  {
   "cell_type": "code",
   "execution_count": 118,
   "id": "610389f7",
   "metadata": {},
   "outputs": [],
   "source": [
    "rendue(ydtree1_pred,'entropy')"
   ]
  },
  {
   "cell_type": "markdown",
   "id": "36335f40",
   "metadata": {},
   "source": [
    "### Gini -> Your submission score is : 1.3111971171641954    \n",
    "### Entropy -> Your submission score is : 1.3127898621725782\n",
    "\n",
    "### On a la méthode Gini qui est meilleur que l'Entropy mais que les deux donnes des mauvais score\n",
    "\n",
    "#   "
   ]
  },
  {
   "cell_type": "markdown",
   "id": "c741e09b",
   "metadata": {},
   "source": [
    "# 7 ) Réseaux de neuronnes"
   ]
  },
  {
   "cell_type": "markdown",
   "id": "9d47feb3",
   "metadata": {},
   "source": [
    "### activation{‘identity’, ‘logistic’, ‘relu’}, default=’relu’\n",
    "### solver{‘lbfgs’, ‘sgd’, ‘adam’}, default=’adam’"
   ]
  },
  {
   "cell_type": "code",
   "execution_count": 78,
   "id": "c0d290e5",
   "metadata": {},
   "outputs": [],
   "source": [
    "X1_train, X1_test, y1_train, y1_test = train_test_split(xtrain, ytrain, test_size=0.1)"
   ]
  },
  {
   "cell_type": "markdown",
   "id": "36f38257",
   "metadata": {},
   "source": [
    "### I ) activation = ‘relu’\n",
    "#### a )  solver =’adam’"
   ]
  },
  {
   "cell_type": "code",
   "execution_count": 139,
   "id": "3c598897",
   "metadata": {},
   "outputs": [],
   "source": [
    "Clf = MLPClassifier()\n",
    "Clf.fit(X1_train,y1_train.ravel())\n",
    "mlp_pred = Clf.predict(X1_test)"
   ]
  },
  {
   "cell_type": "code",
   "execution_count": 140,
   "id": "d8bade17",
   "metadata": {},
   "outputs": [
    {
     "data": {
      "text/plain": [
       "0.368290983517321"
      ]
     },
     "execution_count": 140,
     "metadata": {},
     "output_type": "execute_result"
    }
   ],
   "source": [
    "accuracy_score(y1_test, mlp_pred)"
   ]
  },
  {
   "cell_type": "code",
   "execution_count": 34,
   "id": "fa7c039d",
   "metadata": {},
   "outputs": [
    {
     "data": {
      "text/plain": [
       "0.36711520456376423"
      ]
     },
     "execution_count": 34,
     "metadata": {},
     "output_type": "execute_result"
    }
   ],
   "source": [
    "Clf = MLPClassifier(hidden_layer_sizes=(24,4))\n",
    "Clf.fit(X1_train,y1_train.ravel())\n",
    "mlp_pred = Clf.predict(X1_test)\n",
    "accuracy_score(y1_test, mlp_pred)"
   ]
  },
  {
   "cell_type": "markdown",
   "id": "ade36dcd",
   "metadata": {},
   "source": [
    "#### b ) solver = 'lbfgs'"
   ]
  },
  {
   "cell_type": "code",
   "execution_count": 143,
   "id": "c0ca10e8",
   "metadata": {},
   "outputs": [
    {
     "name": "stderr",
     "output_type": "stream",
     "text": [
      "C:\\Users\\Mohan\\anaconda3\\lib\\site-packages\\sklearn\\neural_network\\_multilayer_perceptron.py:500: ConvergenceWarning: lbfgs failed to converge (status=1):\n",
      "STOP: TOTAL NO. of ITERATIONS REACHED LIMIT.\n",
      "\n",
      "Increase the number of iterations (max_iter) or scale the data as shown in:\n",
      "    https://scikit-learn.org/stable/modules/preprocessing.html\n",
      "  self.n_iter_ = _check_optimize_result(\"lbfgs\", opt_res, self.max_iter)\n"
     ]
    },
    {
     "data": {
      "text/plain": [
       "0.3682937052278616"
      ]
     },
     "execution_count": 143,
     "metadata": {},
     "output_type": "execute_result"
    }
   ],
   "source": [
    "Clf = MLPClassifier(solver = 'lbfgs')\n",
    "Clf.fit(X1_train,y1_train.ravel())\n",
    "mlp_pred2 = Clf.predict(X1_test)\n",
    "accuracy_score(y1_test, mlp_pred2)"
   ]
  },
  {
   "cell_type": "markdown",
   "id": "9735ecc3",
   "metadata": {},
   "source": [
    "#### c ) solver = 'sgd'"
   ]
  },
  {
   "cell_type": "code",
   "execution_count": 79,
   "id": "b518d1b4",
   "metadata": {},
   "outputs": [
    {
     "data": {
      "text/plain": [
       "0.3679181091732532"
      ]
     },
     "execution_count": 79,
     "metadata": {},
     "output_type": "execute_result"
    }
   ],
   "source": [
    "Clf = MLPClassifier(solver = 'sgd')\n",
    "Clf.fit(X1_train,y1_train.ravel())\n",
    "mlp_pred2 = Clf.predict(X1_test)\n",
    "accuracy_score(y1_test, mlp_pred2)"
   ]
  },
  {
   "cell_type": "code",
   "execution_count": 80,
   "id": "2788500b",
   "metadata": {},
   "outputs": [
    {
     "name": "stdout",
     "output_type": "stream",
     "text": [
      "Results on the test set:\n",
      "              precision    recall  f1-score   support\n",
      "\n",
      "          11       0.37      1.00      0.54    135179\n",
      "\n",
      "   micro avg       0.37      1.00      0.54    135179\n",
      "   macro avg       0.37      1.00      0.54    135179\n",
      "weighted avg       0.37      1.00      0.54    135179\n",
      "\n"
     ]
    }
   ],
   "source": [
    "print('Results on the test set:')\n",
    "print(classification_report(y1_test, mlp_pred2, labels=np.unique(mlp_pred2)))"
   ]
  },
  {
   "cell_type": "code",
   "execution_count": 82,
   "id": "55aca850",
   "metadata": {},
   "outputs": [
    {
     "data": {
      "image/png": "[encoded data removed]",
      "text/plain": [
       "<Figure size 720x504 with 2 Axes>"
      ]
     },
     "metadata": {
      "needs_background": "light"
     },
     "output_type": "display_data"
    }
   ],
   "source": [
    "matrixconf(y1_test, mlp_pred2,'ABCDEFGHIKLMN')"
   ]
  },
  {
   "cell_type": "markdown",
   "id": "e2d44c54",
   "metadata": {},
   "source": [
    "### II ) activation = 'identity'"
   ]
  },
  {
   "cell_type": "markdown",
   "id": "5fccd9b3",
   "metadata": {},
   "source": [
    "#### a ) solver = 'adam'"
   ]
  },
  {
   "cell_type": "code",
   "execution_count": 145,
   "id": "4be98783",
   "metadata": {},
   "outputs": [
    {
     "data": {
      "text/plain": [
       "0.3682937052278616"
      ]
     },
     "execution_count": 145,
     "metadata": {},
     "output_type": "execute_result"
    }
   ],
   "source": [
    "Clf = MLPClassifier(activation = 'identity')\n",
    "Clf.fit(X1_train,y1_train.ravel())\n",
    "mlp_pred2 = Clf.predict(X1_test)\n",
    "accuracy_score(y1_test, mlp_pred2)"
   ]
  },
  {
   "cell_type": "markdown",
   "id": "cb237126",
   "metadata": {},
   "source": [
    "#### c ) solver = 'sgd'"
   ]
  },
  {
   "cell_type": "code",
   "execution_count": 181,
   "id": "937015fe",
   "metadata": {},
   "outputs": [
    {
     "data": {
      "text/plain": [
       "0.36795349141028155"
      ]
     },
     "execution_count": 181,
     "metadata": {},
     "output_type": "execute_result"
    }
   ],
   "source": [
    "Clf = MLPClassifier(activation = 'identity',solver = 'sgd')\n",
    "Clf.fit(X1_train,y1_train.ravel())\n",
    "mlp_pred2 = Clf.predict(X1_test)\n",
    "accuracy_score(y1_test, mlp_pred2)"
   ]
  },
  {
   "cell_type": "code",
   "execution_count": 84,
   "id": "155e0613",
   "metadata": {},
   "outputs": [
    {
     "name": "stdout",
     "output_type": "stream",
     "text": [
      "Results on the test set:\n",
      "              precision    recall  f1-score   support\n",
      "\n",
      "          11       0.37      1.00      0.54    135179\n",
      "\n",
      "   micro avg       0.37      1.00      0.54    135179\n",
      "   macro avg       0.37      1.00      0.54    135179\n",
      "weighted avg       0.37      1.00      0.54    135179\n",
      "\n"
     ]
    }
   ],
   "source": [
    "print('Results on the test set:')\n",
    "print(classification_report(y1_test, mlp_pred2, labels=np.unique(mlp_pred2)))"
   ]
  },
  {
   "cell_type": "code",
   "execution_count": 182,
   "id": "130e1db3",
   "metadata": {},
   "outputs": [
    {
     "name": "stderr",
     "output_type": "stream",
     "text": [
      "C:\\Users\\Mohan\\anaconda3\\lib\\site-packages\\sklearn\\model_selection\\_split.py:666: UserWarning: The least populated class in y has only 2 members, which is less than n_splits=5.\n",
      "  warnings.warn((\"The least populated class in y has only %d\"\n",
      "C:\\Users\\Mohan\\anaconda3\\lib\\site-packages\\sklearn\\neural_network\\_multilayer_perceptron.py:619: UserWarning: Training interrupted by user.\n",
      "  warnings.warn(\"Training interrupted by user.\")\n"
     ]
    },
    {
     "data": {
      "image/png": "[encoded data removed]",
      "text/plain": [
       "<Figure size 432x288 with 1 Axes>"
      ]
     },
     "metadata": {
      "needs_background": "light"
     },
     "output_type": "display_data"
    }
   ],
   "source": [
    "from sklearn.model_selection import learning_curve\n",
    "traintaille, trainscore, testscore = learning_curve(Clf, X=X1_train, y=y1_train.ravel())\n",
    "trainmoyenne = np.mean(trainscore, axis=1)\n",
    "trainstandard = np.std(trainscore, axis=1)\n",
    "testmoyenne = np.mean(testscore, axis=1)\n",
    "teststandard = np.std(testscore, axis=1)\n",
    "plt.plot(traintaille, trainmoyenne, color='red', marker = 's', label=\"train\")\n",
    "plt.fill_between(traintaille,trainmoyenne+trainstandard, trainmoyenne-trainstandard,alpha=0.15, color=\"red\")\n",
    "\n",
    "\n",
    "\n",
    "\n",
    "\n",
    "plt.plot(traintaille, testmoyenne, color='blue', marker = 'o', linestyle='--', label=\"test\")\n",
    "plt.fill_between(traintaille,testmoyenne+teststandard, testmoyenne-teststandard,alpha=0.15,color=\"blue\")\n",
    "\n",
    "\n",
    "\n",
    "\n",
    "\n",
    "plt.grid()\n",
    "plt.xlabel(\"Nombre d'exemples d'entrainement\")\n",
    "plt.ylabel(\"Précision du modèle\")\n",
    "plt.legend(loc='upper right')\n",
    "plt.show()"
   ]
  },
  {
   "cell_type": "code",
   "execution_count": 85,
   "id": "4ae23680",
   "metadata": {},
   "outputs": [
    {
     "data": {
      "image/png": "[encoded data removed]",
      "text/plain": [
       "<Figure size 720x504 with 2 Axes>"
      ]
     },
     "metadata": {
      "needs_background": "light"
     },
     "output_type": "display_data"
    }
   ],
   "source": [
    "matrixconf(y1_test, mlp_pred2,'ABCDEFGHIKLMN')"
   ]
  },
  {
   "cell_type": "markdown",
   "id": "0bcef087",
   "metadata": {},
   "source": [
    "### III ) activation = 'logistic'\n",
    "#### a ) solver = 'adam'"
   ]
  },
  {
   "cell_type": "code",
   "execution_count": 13,
   "id": "52acd640",
   "metadata": {},
   "outputs": [
    {
     "data": {
      "text/plain": [
       "0.3676214427243234"
      ]
     },
     "execution_count": 13,
     "metadata": {},
     "output_type": "execute_result"
    }
   ],
   "source": [
    "Clf = MLPClassifier(activation = 'logistic',solver = 'adam')\n",
    "Clf.fit(X1_train,y1_train.ravel())\n",
    "mlp_pred2 = Clf.predict(X1_test)\n",
    "accuracy_score(y1_test, mlp_pred2)"
   ]
  },
  {
   "cell_type": "markdown",
   "id": "1dae41a6",
   "metadata": {},
   "source": [
    "### c ) solver = 'sgd'"
   ]
  },
  {
   "cell_type": "code",
   "execution_count": 87,
   "id": "c7659809",
   "metadata": {},
   "outputs": [
    {
     "data": {
      "text/plain": [
       "0.3679181091732532"
      ]
     },
     "execution_count": 87,
     "metadata": {},
     "output_type": "execute_result"
    }
   ],
   "source": [
    "Clf = MLPClassifier(activation = 'logistic',solver = 'sgd')\n",
    "Clf.fit(X1_train,y1_train.ravel())\n",
    "mlp_pred2 = Clf.predict(X1_test)\n",
    "accuracy_score(y1_test, mlp_pred2)"
   ]
  },
  {
   "cell_type": "code",
   "execution_count": 88,
   "id": "01ae3c59",
   "metadata": {},
   "outputs": [
    {
     "name": "stdout",
     "output_type": "stream",
     "text": [
      "Results on the test set:\n",
      "              precision    recall  f1-score   support\n",
      "\n",
      "          11       0.37      1.00      0.54    135179\n",
      "\n",
      "   micro avg       0.37      1.00      0.54    135179\n",
      "   macro avg       0.37      1.00      0.54    135179\n",
      "weighted avg       0.37      1.00      0.54    135179\n",
      "\n"
     ]
    }
   ],
   "source": [
    "print('Results on the test set:')\n",
    "print(classification_report(y1_test, mlp_pred2, labels=np.unique(mlp_pred2)))"
   ]
  },
  {
   "cell_type": "code",
   "execution_count": 89,
   "id": "1f57dd17",
   "metadata": {},
   "outputs": [
    {
     "data": {
      "image/png": "[encoded data removed]",
      "text/plain": [
       "<Figure size 720x504 with 2 Axes>"
      ]
     },
     "metadata": {
      "needs_background": "light"
     },
     "output_type": "display_data"
    }
   ],
   "source": [
    "matrixconf(y1_test, mlp_pred2,'ABCDEFGHIKLMN')"
   ]
  },
  {
   "cell_type": "markdown",
   "id": "98adfbc1",
   "metadata": {},
   "source": [
    "# Procédons au rendue pour les paramétres qui donne la meilleur précision"
   ]
  },
  {
   "cell_type": "code",
   "execution_count": 33,
   "id": "a9787963",
   "metadata": {},
   "outputs": [],
   "source": [
    "Clf = MLPClassifier(activation = 'identity',solver = 'sgd')\n",
    "Clf.fit(xtrain,ytrain.ravel())\n",
    "mlp_pred2 = Clf.predict(xtest)\n",
    "rendue(mlp_pred2,'MLPClassifier')"
   ]
  },
  {
   "cell_type": "markdown",
   "id": "fc099ff3",
   "metadata": {},
   "source": [
    "### Your submission score is : 0.8589076142574085"
   ]
  },
  {
   "cell_type": "markdown",
   "id": "0d4e427a",
   "metadata": {},
   "source": [
    "# Préprocessing \n",
    "## OneHotEncoder"
   ]
  },
  {
   "cell_type": "code",
   "execution_count": 15,
   "id": "07d69e1c",
   "metadata": {},
   "outputs": [],
   "source": [
    "xt = oneHot(xtest)\n",
    "x = oneHot(xtrain)\n",
    "X1_train, X1_test, y1_train, y1_test = train_test_split(x, ytrain, test_size=0.1)"
   ]
  },
  {
   "cell_type": "markdown",
   "id": "f19b8252",
   "metadata": {},
   "source": [
    "## Naive bayesienne "
   ]
  },
  {
   "cell_type": "markdown",
   "id": "7a54d190",
   "metadata": {},
   "source": [
    "#### catégorielle"
   ]
  },
  {
   "cell_type": "code",
   "execution_count": 50,
   "id": "5d661cc0",
   "metadata": {},
   "outputs": [
    {
     "name": "stderr",
     "output_type": "stream",
     "text": [
      "C:\\Users\\Mohan\\anaconda3\\lib\\site-packages\\sklearn\\utils\\validation.py:63: DataConversionWarning: A column-vector y was passed when a 1d array was expected. Please change the shape of y to (n_samples, ), for example using ravel().\n",
      "  return f(*args, **kwargs)\n"
     ]
    },
    {
     "data": {
      "text/plain": [
       "CategoricalNB()"
      ]
     },
     "execution_count": 50,
     "metadata": {},
     "output_type": "execute_result"
    }
   ],
   "source": [
    "clf = CategoricalNB()\n",
    "clf.fit(X1_train, y1_train)"
   ]
  },
  {
   "cell_type": "code",
   "execution_count": 51,
   "id": "51fa6d8b",
   "metadata": {},
   "outputs": [
    {
     "data": {
      "text/plain": [
       "0.36754251311864483"
      ]
     },
     "execution_count": 51,
     "metadata": {},
     "output_type": "execute_result"
    }
   ],
   "source": [
    "ynb_pred3 = clf.predict(X1_test)\n",
    "accuracy_score(y1_test, ynb_pred3)\n",
    "clf.score(y1_test, ynb_pred3)"
   ]
  },
  {
   "cell_type": "markdown",
   "id": "97d7c7de",
   "metadata": {},
   "source": [
    "## LinearRegression"
   ]
  },
  {
   "cell_type": "code",
   "execution_count": 17,
   "id": "735464cb",
   "metadata": {},
   "outputs": [],
   "source": [
    "model = LinearRegression()\n",
    "ypred = model.fit(X1_train, y1_train)"
   ]
  },
  {
   "cell_type": "code",
   "execution_count": 19,
   "id": "4d71fcac",
   "metadata": {},
   "outputs": [
    {
     "data": {
      "text/plain": [
       "array([[10.52270508],\n",
       "       [10.51342773],\n",
       "       [10.72607422],\n",
       "       ...,\n",
       "       [10.81054688],\n",
       "       [10.6496582 ],\n",
       "       [10.54711914]])"
      ]
     },
     "execution_count": 19,
     "metadata": {},
     "output_type": "execute_result"
    }
   ],
   "source": [
    "model.predict(X1_test)"
   ]
  },
  {
   "cell_type": "code",
   "execution_count": 26,
   "id": "2e1abf05",
   "metadata": {},
   "outputs": [],
   "source": [
    "model = LinearRegression()\n",
    "model.fit(x, ytrain)\n",
    "ypred = model.predict(xt)\n"
   ]
  },
  {
   "cell_type": "code",
   "execution_count": 28,
   "id": "4b3b52c1",
   "metadata": {},
   "outputs": [
    {
     "data": {
      "text/plain": [
       "(1837080, 1)"
      ]
     },
     "execution_count": 28,
     "metadata": {},
     "output_type": "execute_result"
    }
   ],
   "source": [
    "ypred.shape"
   ]
  },
  {
   "cell_type": "code",
   "execution_count": 29,
   "id": "e9859042",
   "metadata": {},
   "outputs": [],
   "source": [
    "rendue(ypred.reshape(1837080),'renduelinearregre_oneHotEncoding')"
   ]
  },
  {
   "cell_type": "code",
   "execution_count": null,
   "id": "4537e59c",
   "metadata": {},
   "outputs": [],
   "source": [
    "#Your submission score is : 0.9205664462251235"
   ]
  },
  {
   "cell_type": "code",
   "execution_count": 31,
   "id": "cb75e7b4",
   "metadata": {},
   "outputs": [
    {
     "name": "stderr",
     "output_type": "stream",
     "text": [
      "C:\\Users\\Mohan\\anaconda3\\lib\\site-packages\\sklearn\\utils\\validation.py:63: DataConversionWarning: A column-vector y was passed when a 1d array was expected. Please change the shape of y to (n_samples, ), for example using ravel().\n",
      "  return f(*args, **kwargs)\n"
     ]
    }
   ],
   "source": [
    "clf = CategoricalNB()\n",
    "clf.fit(x, ytrain)\n",
    "ynb_pred3 = clf.predict(xt)\n",
    "rendue(ynb_pred3.reshape(1837080),'categoricalNB_oneHotEncoding')"
   ]
  },
  {
   "cell_type": "code",
   "execution_count": null,
   "id": "ebc6d4ef",
   "metadata": {},
   "outputs": [],
   "source": [
    "#Your submission score is : 0.8616783155877806"
   ]
  },
  {
   "cell_type": "markdown",
   "id": "7f1f1a00",
   "metadata": {},
   "source": [
    "# MLPClassifier"
   ]
  },
  {
   "cell_type": "code",
   "execution_count": 41,
   "id": "a0da8bf4",
   "metadata": {},
   "outputs": [],
   "source": [
    "Clf = MLPClassifier(activation = 'identity',solver = 'sgd')\n",
    "Clf.fit(x,ytrain.ravel())\n",
    "mlp_pred2 = Clf.predict(xt)\n",
    "rendue(mlp_pred2,'MLPClassifier_oneHotEncoding')"
   ]
  },
  {
   "cell_type": "code",
   "execution_count": null,
   "id": "a82adf71",
   "metadata": {},
   "outputs": [],
   "source": [
    "#Your submission score is : 0.8589076142574085"
   ]
  },
  {
   "cell_type": "markdown",
   "id": "2810fe34",
   "metadata": {},
   "source": [
    "# Malheuresement le OneHotEncoding n'améliore pas nos performances, on abandonne donc cette méthode de préprocessing"
   ]
  },
  {
   "cell_type": "code",
   "execution_count": null,
   "id": "24fb59d4",
   "metadata": {},
   "outputs": [],
   "source": []
  }
 ],
 "metadata": {
  "kernelspec": {
   "display_name": "Python 3",
   "language": "python",
   "name": "python3"
  },
  "language_info": {
   "codemirror_mode": {
    "name": "ipython",
    "version": 3
   },
   "file_extension": ".py",
   "mimetype": "text/x-python",
   "name": "python",
   "nbconvert_exporter": "python",
   "pygments_lexer": "ipython3",
   "version": "3.8.8"
  }
 },
 "nbformat": 4,
 "nbformat_minor": 5
}
